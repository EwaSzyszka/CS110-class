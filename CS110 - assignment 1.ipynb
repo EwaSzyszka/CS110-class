{
 "cells": [
  {
   "cell_type": "markdown",
   "metadata": {},
   "source": [
    "----------------------2-way merge-sort----------------------"
   ]
  },
  {
   "cell_type": "code",
   "execution_count": 20,
   "metadata": {
    "collapsed": false
   },
   "outputs": [
    {
     "data": {
      "text/plain": [
       "[1, 2, 5, 6, 6, 6, 8, 8, 9]"
      ]
     },
     "execution_count": 20,
     "metadata": {},
     "output_type": "execute_result"
    }
   ],
   "source": [
    "def merge_sort(array):\n",
    "    print array\n",
    "    if len(array) <= 1:\n",
    "           return\n",
    "    left = array[:len(array)/2]\n",
    "    right = array[len(array)/2:]\n",
    "\n",
    "    if len(left):\n",
    "        sorted_left = merge_sort(left)\n",
    "    if len(right):\n",
    "        sorted_right = merge_sort(right)\n",
    "        \n",
    "def merge(a,b): #a = sorted left b = sorted right\n",
    "    i = 0\n",
    "    j = 0\n",
    "\n",
    "    sorted_array = []\n",
    "    while i + j < len(a) + len(b):\n",
    "\n",
    "        l = a[i] if i < len(a) else 1e10\n",
    "        r = b[j] if j < len(b) else 1e10\n",
    "        if l < r:\n",
    "            sorted_array.append(a[i])\n",
    "            i +=1\n",
    "        else:\n",
    "            sorted_array.append(b[j])\n",
    "            j +=1\n",
    "        \n",
    "    return sorted_array\n",
    "    \n",
    "        \n",
    "merge([1, 5, 6, 8],[2, 6, 6, 8, 9])\n",
    "#merge_sort([2,4,1,3])"
   ]
  },
  {
   "cell_type": "markdown",
   "metadata": {},
   "source": [
    "----------------------3-way merge-sort----------------------"
   ]
  },
  {
   "cell_type": "code",
   "execution_count": 32,
   "metadata": {
    "collapsed": false
   },
   "outputs": [
    {
     "data": {
      "text/plain": [
       "[1, 1, 1, 2, 2, 5, 34]"
      ]
     },
     "execution_count": 32,
     "metadata": {},
     "output_type": "execute_result"
    }
   ],
   "source": [
    "def merge_sort_3(array):\n",
    "   \n",
    "    if len(array) <= 1:\n",
    "           return array\n",
    "    if len(array) <= 2:\n",
    "        if array[0]>array[1]:\n",
    "            return [array[1],array[0]]\n",
    "        else:\n",
    "            return array\n",
    "        \n",
    "    left = array[:len(array)/3]\n",
    "    middle = array[len(array)/3:2*(len(array)/3)]\n",
    "    right = array[2*(len(array)/3):]\n",
    "\n",
    "    if len(left):\n",
    "        sorted_left = merge_sort_3(left)\n",
    "    if len(middle):\n",
    "        sorted_middle = merge_sort_3(middle)\n",
    "    if len(right):\n",
    "        sorted_right = merge_sort_3(right)\n",
    "    \n",
    "    return merge_3(sorted_left,sorted_middle,sorted_right) \n",
    "\n",
    "def merge_3(a,b,c): #a = sorted left b = sorted right\n",
    "    \n",
    "    i = 0\n",
    "    j = 0\n",
    "    k = 0\n",
    "    \n",
    "    sorted_array = []\n",
    "    \n",
    "    \n",
    "    while (i + j + k) < (len(a) + len(b) + len(c)):\n",
    "            \n",
    "        l = a[i] if i < len(a) else 1e10\n",
    "        m = b[j] if j < len(b) else 1e10\n",
    "        r = c[k] if k < len(c) else 1e10\n",
    "        \n",
    "        if l <= r and l <= m:\n",
    "            sorted_array.append(l)\n",
    "            i+=1\n",
    "        elif m <= r and m <= l:\n",
    "            sorted_array.append(m)\n",
    "            j+=1\n",
    "        elif r <= l and r <= m:\n",
    "            sorted_array.append(r)\n",
    "            k+=1\n",
    "        \n",
    "    return sorted_array\n",
    "    \n",
    "merge_sort_3([1,2,34,5,1,1,2])"
   ]
  },
  {
   "cell_type": "markdown",
   "metadata": {},
   "source": [
    "----------Augmetedd merge-sort ----------"
   ]
  },
  {
   "cell_type": "code",
   "execution_count": 33,
   "metadata": {
    "collapsed": false
   },
   "outputs": [
    {
     "data": {
      "text/plain": [
       "[1, 1, 1, 2, 2, 5, 34]"
      ]
     },
     "execution_count": 33,
     "metadata": {},
     "output_type": "execute_result"
    }
   ],
   "source": [
    "def insertionSort(alist):\n",
    "    for index in range(1,len(alist)):\n",
    "        currentvalue = alist[index]\n",
    "        position = index\n",
    "\n",
    "        while position>0 and alist[position-1]>currentvalue:\n",
    "            alist[position]=alist[position-1]\n",
    "            position = position-1\n",
    "\n",
    "        alist[position]=currentvalue\n",
    "    return alist\n",
    "\n",
    "\n",
    "def merge_sort_augmented(array):\n",
    "\n",
    "    if len(array) <= 1:\n",
    "           return array\n",
    "    if len(array) <= 2:\n",
    "        if array[0]>array[1]:\n",
    "            return [array[1],array[0]]\n",
    "        else:\n",
    "            return array\n",
    "        \n",
    "    left = array[:len(array)/3]\n",
    "    middle = array[len(array)/3:2*(len(array)/3)]\n",
    "    right = array[2*(len(array)/3):]\n",
    "\n",
    "    if len(left):\n",
    "        sorted_left = merge_sort_3(left)\n",
    "    if len(middle):\n",
    "        sorted_middle = merge_sort_3(middle)\n",
    "    if len(right):\n",
    "        sorted_right = merge_sort_3(right)\n",
    "        \n",
    "    if len(left)>=3:\n",
    "        sorted_left = merge_sort_augmented(left)\n",
    "    else:\n",
    "        sorted_left = insertionSort(left)\n",
    "    \n",
    "    if len(middle)>=3:\n",
    "        sorted_middle = merge_sort_augmented(middle)\n",
    "    else:\n",
    "        sorted_middle = insertionSort(middle)\n",
    "    \n",
    "    if len(right)>=3:\n",
    "        sorted_right = merge_sort_augmented(right)\n",
    "    else:\n",
    "        sorted_right = insertionSort(right)        \n",
    "        \n",
    "    \n",
    "    return merge_3(sorted_left,sorted_middle,sorted_right) \n",
    "\n",
    "def merge_3(a,b,c): #a = sorted left b = sorted right\n",
    "    \n",
    "    i = 0\n",
    "    j = 0\n",
    "    k = 0\n",
    "    \n",
    "    sorted_array = []\n",
    "    \n",
    "    \n",
    "    while (i + j + k) < (len(a) + len(b) + len(c)):\n",
    "            \n",
    "        l = a[i] if i < len(a) else 1e10\n",
    "        m = b[j] if j < len(b) else 1e10\n",
    "        r = c[k] if k < len(c) else 1e10\n",
    "        \n",
    "        if l <= r and l <= m:\n",
    "            sorted_array.append(l)\n",
    "            i+=1\n",
    "        elif m <= r and m <= l:\n",
    "            sorted_array.append(m)\n",
    "            j+=1\n",
    "        elif r <= l and r <= m:\n",
    "            sorted_array.append(r)\n",
    "            k+=1\n",
    "        \n",
    "    return sorted_array\n",
    "    \n",
    "merge_sort_augmented([1,2,34,5,1,1,2])"
   ]
  }
 ],
 "metadata": {
  "anaconda-cloud": {},
  "kernelspec": {
   "display_name": "Python [Root]",
   "language": "python",
   "name": "Python [Root]"
  },
  "language_info": {
   "codemirror_mode": {
    "name": "ipython",
    "version": 2
   },
   "file_extension": ".py",
   "mimetype": "text/x-python",
   "name": "python",
   "nbconvert_exporter": "python",
   "pygments_lexer": "ipython2",
   "version": "2.7.12"
  }
 },
 "nbformat": 4,
 "nbformat_minor": 0
}
