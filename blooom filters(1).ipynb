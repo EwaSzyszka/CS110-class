{
 "cells": [
  {
   "cell_type": "markdown",
   "metadata": {},
   "source": [
    "What are bloom filters\n",
    "\n",
    "Bloom filter is a type of a data structure. An empty bloom filter would be a bit array, consisting of zeros. Using multiple hash functions on an item we can determine the index at the bloom filter of an item and populate the empty data structure. An important properties of bloom filter are its probabilistic and space-efficient nature. Probabilistic in this context means that when we are trying to determine whether an item is within the bloom filter, we only get the answer that there is a probability that there is an item in the data structure and we are never 100% sure. Space efficient means that it takes relatively small amount of time to both add and sort through the bloom filter. Given k hash functions were used to determine the location of an index, the time complexity of search and add operations is O(k).\n"
   ]
  },
  {
   "cell_type": "markdown",
   "metadata": {},
   "source": [
    "Murmur Hash\n",
    "\n",
    "It is a hashing function that is not difficult to reverse, thus not suitable for cryptographic usages.  The way the murmur hashing works is first the hash looks at strings in 32 block bits, each block consists of four letters.  Next, the hash function converts the string into the hexadecimal notation and shifts each element appropriately in a way that after each element is added we receive a 4 bite block (eg. The letters ‘abcd’ in a string would be converted first to OX61, OX62, OX,63 and X64, next the string will be shifted in a way that we receive OX61626364). Next the string partitioned into those blocks will be multiplied by a constant and shifted by another constant in a way that will exchange the items at the beginning of the converted hexadecimal value with the items at the end. The hash function repeats the multiplication process by another constant and shifts the items again. After 32bit block will be multiplied and shifted appropriately the function will revert to remaining items of the string that did not form 32 bite unit and will shift the items and next repeat the process of multiplying by constant and shifting. Finally, there are few multiplications and shifts performed on all items of the string to be hashed at the same time that consist of multiplication and shifting. \n"
   ]
  },
  {
   "cell_type": "markdown",
   "metadata": {},
   "source": [
    "Scaling of memory size as a function of the false positive rate\n",
    "\n",
    "60B - 0.1 \n",
    "42B - 0.2 \n",
    "31B - 0.3 \n",
    "24B - 0.4 \n",
    "18B - 0.5 \n",
    "13B - 0.6\n",
    "\n",
    "I used the following calculator to arrive at the values: https://hur.st/bloomfilter?n=100&p=0.6 \n",
    "\n",
    "The shape of the graph is resembling an exponential decay graph,\n",
    "there is a negative correlation between memory size and fase positive rate"
   ]
  },
  {
   "cell_type": "code",
   "execution_count": 491,
   "metadata": {
    "collapsed": false
   },
   "outputs": [
    {
     "data": {
      "image/png": "[encoded data removed]",
      "text/plain": [
       "<matplotlib.figure.Figure at 0x1159bae50>"
      ]
     },
     "metadata": {},
     "output_type": "display_data"
    }
   ],
   "source": [
    "x = [60,42,31,24,18,13]\n",
    "y = [0.1,0.2,0.3,0.4,0.5,0.6]\n",
    "matplotlib.pyplot.scatter(x, y)\n",
    "plt.plot(x, y)\n",
    "plt.show()"
   ]
  },
  {
   "cell_type": "markdown",
   "metadata": {},
   "source": [
    "Scaling of access time as a function of the number of items stored\n",
    "\n",
    "80 - 7.00950622559e-05\n",
    "60 - 7.20024108887e-05\n",
    "40 - 8.51154327393e-05\n",
    "20 - 9.3936920166e-05\n",
    "\n",
    "I used the following code to arrive at the values, at values\n",
    "of items added 20,40,60 and 80\n",
    "    \n",
    "import timeit\n",
    "start = timeit.default_timer()\n",
    "check(\"fur\")\n",
    "stop = timeit.default_timer()\n",
    "print stop - start \n",
    "\n",
    "The graph has a linear shape, thus the access time does not\n",
    "scale with relation to number of items stored"
   ]
  },
  {
   "cell_type": "code",
   "execution_count": 490,
   "metadata": {
    "collapsed": false
   },
   "outputs": [
    {
     "data": {
      "image/png": "[encoded data removed]",
      "text/plain": [
       "<matplotlib.figure.Figure at 0x115536d50>"
      ]
     },
     "metadata": {},
     "output_type": "display_data"
    }
   ],
   "source": [
    "x = [20,40,60,80]\n",
    "y = [9.3936920166e-05,8.51154327393e-05,7.20024108887e-05,7.00950622559e-05]\n",
    "matplotlib.pyplot.scatter(x, y)\n",
    "plt.plot(x, y)\n",
    "plt.show()"
   ]
  },
  {
   "cell_type": "markdown",
   "metadata": {},
   "source": [
    "Scaling of access time as a function of the false positive rate\n",
    "\n",
    "0.05 - 9.29832458496e-05\n",
    "0.2 - 8.39233398438e-05\n",
    "0.3 - 9.3936920166e-05\n",
    "0.4 - 8.89301300049e-05\n",
    "0.5 - 8.60691070557e-05\n",
    "\n",
    "I used the following code to arrive at the values:\n",
    "    \n",
    "import timeit\n",
    "start = timeit.default_timer()\n",
    "check(\"fur\")\n",
    "stop = timeit.default_timer()\n",
    "print stop - start \n",
    "\n",
    "The shape of the graph shows that the rate of false positive \n",
    "does not scale with time"
   ]
  },
  {
   "cell_type": "code",
   "execution_count": 480,
   "metadata": {
    "collapsed": false
   },
   "outputs": [
    {
     "data": {
      "image/png": "[encoded data removed]",
      "text/plain": [
       "<matplotlib.figure.Figure at 0x1158afa10>"
      ]
     },
     "metadata": {},
     "output_type": "display_data"
    }
   ],
   "source": [
    "x = [0.05,0.2,0.3,0.4,0.5]\n",
    "y = [9.29832458496e-05,8.39233398438e-05,9.3936920166e-05,\n",
    "    8.89301300049e-05,8.60691070557e-05]\n",
    "\n",
    "matplotlib.pyplot.scatter(x, y)\n",
    "plt.plot(x, y)\n",
    "plt.show()"
   ]
  },
  {
   "cell_type": "markdown",
   "metadata": {},
   "source": [
    "Scaling of memory size as a function of the number of items stored.\n",
    "\n",
    "4090B - 10,000\n",
    "419B - 1,000\n",
    "42B - 100\n",
    "4B - 10\n",
    "1B - 1\n",
    "\n",
    "I used the following calculator to arrive at the values: https://hur.st/bloomfilter?n=100000&p=0.2 \n",
    "\n",
    "The graph below illustrates how memory scales with number of items \n",
    "stored in a bloom filter given probability of false positive equal to 0.2.\n",
    "The shape is approximately exponential. "
   ]
  },
  {
   "cell_type": "code",
   "execution_count": 470,
   "metadata": {
    "collapsed": false
   },
   "outputs": [
    {
     "data": {
      "image/png": "[encoded data removed]",
      "text/plain": [
       "<matplotlib.figure.Figure at 0x115241a90>"
      ]
     },
     "metadata": {},
     "output_type": "display_data"
    }
   ],
   "source": [
    "x = [1,4,42,419,409]\n",
    "y = [1,10,100,1000,10000]\n",
    "matplotlib.pyplot.scatter(x, y)\n",
    "plt.plot(x, y)\n",
    "plt.show()"
   ]
  },
  {
   "cell_type": "code",
   "execution_count": 492,
   "metadata": {
    "collapsed": false
   },
   "outputs": [
    {
     "name": "stdout",
     "output_type": "stream",
     "text": [
      "fur - allergen\n",
      "milk - allergen\n",
      "chocolate - allergen\n",
      "pollen - allergen\n",
      "eggs - allergen\n",
      "gluten - allergen\n",
      "wheat - allergen\n",
      "rye - allergen\n",
      "barley - allergen\n",
      "nuts - allergen\n",
      "fish - allergen\n",
      "fish oil - allergen\n",
      "sea food - allergen\n",
      "beans - allergen\n",
      "mustard - allergen\n",
      "soy beans - allergen\n",
      "lupin - allergen\n",
      "molluscs - allergen\n",
      "celery - allergen\n",
      "peanuts - allergen\n",
      " \n",
      "milk false positive\n",
      "potatos false positive\n",
      "cilantro NOT in bloom filter\n",
      "papaya false positive\n",
      "cashew false positive\n",
      "apples NOT in bloom filter\n",
      "0.4\n"
     ]
    }
   ],
   "source": [
    "import math, mmh3, hashlib, random\n",
    "from bitarray import bitarray\n",
    "\n",
    "fp_count = 0\n",
    "\n",
    "def size(insert,probability_false_positive):\n",
    "    size = int(math.ceil((insert * math.log(probability_false_positive)) / math.log(1.0 / (pow(2.0, math.log(2.0))))))\n",
    "    return size\n",
    "\n",
    "bit_array = bitarray(size(20,0.5))\n",
    "bit_array.setall(0)\n",
    "\n",
    "def add(item):\n",
    "    for i in range(1):\n",
    "        index = mmh3.hash(item, i) % size(20,0.5) #hash function index/digest\n",
    "        bit_array[index] = True\n",
    "        #print index,bit_array\n",
    "          \n",
    "def check(item):\n",
    "    for i in range(2):\n",
    "        digest = mmh3.hash(item) % size(20,0.5)\n",
    "        if bit_array[mmh3.hash(item) % size(20,0.5)] == False:\n",
    "            return False\n",
    "        return True\n",
    "    \n",
    "allergy = ['fur', 'milk', 'chocolate', 'pollen', 'eggs', 'gluten', 'wheat',\n",
    "            'rye', 'barley','nuts','fish','fish oil','sea food','beans',\n",
    "           'mustard','soy beans','lupin','molluscs','celery','peanuts']\n",
    "\n",
    "diet_recommendation = ['milk', 'potatos', 'cilantro', 'papaya', 'spinnach', 'wheat',\n",
    "            'water', 'barley','cashew','apples']\n",
    "\n",
    "for item in allergy:\n",
    "    add(item)\n",
    "    if bit_array[mmh3.hash(item) % size(20,0.5)] == 1:\n",
    "        print('{} - allergen'.format(item))\n",
    "        \n",
    "print (\" \")\n",
    "    \n",
    "for item2 in diet_recommendation:\n",
    "    probab = random.uniform(0, 1)\n",
    "    if probab <0.5:\n",
    "        print('{} false positive'.format(item2))\n",
    "        fp_count +=1\n",
    "    elif bit_array[mmh3.hash(item2) % size(20,0.5)] == 0:\n",
    "        print('{} NOT in bloom filter'.format(item2))   \n",
    "        \n",
    "print fp_count/10."
   ]
  },
  {
   "cell_type": "code",
   "execution_count": 460,
   "metadata": {
    "collapsed": false
   },
   "outputs": [
    {
     "name": "stdout",
     "output_type": "stream",
     "text": [
      "0.486206896552\n"
     ]
    },
    {
     "data": {
      "image/png": "[encoded data removed]",
      "text/plain": [
       "<matplotlib.figure.Figure at 0x115083c90>"
      ]
     },
     "metadata": {},
     "output_type": "display_data"
    }
   ],
   "source": [
    "#Visualization of 30 values of false positive \n",
    "import matplotlib\n",
    "%matplotlib inline\n",
    "\n",
    "false_positive = [0.4,0.6,0.3,0.3,0.7,0.8,0.6,0.5, 0.3,0.1,0.6,0.5,0.2,\n",
    "     0.5,0.4,0.4,0.6,0.5,0.5,0.6,0.7,0.5,0.3,0.5,0.6,0.4, 0.7,0.5,\n",
    "     0.5]\n",
    "\n",
    "print np.mean(false_positive)\n",
    "plt.plot(false_positive)\n",
    "plt.axhline(y=np.mean(false_positive), color='r', linestyle='-')\n",
    "plt.show()"
   ]
  }
 ],
 "metadata": {
  "anaconda-cloud": {},
  "kernelspec": {
   "display_name": "Python [Root]",
   "language": "python",
   "name": "Python [Root]"
  },
  "language_info": {
   "codemirror_mode": {
    "name": "ipython",
    "version": 2
   },
   "file_extension": ".py",
   "mimetype": "text/x-python",
   "name": "python",
   "nbconvert_exporter": "python",
   "pygments_lexer": "ipython2",
   "version": "2.7.12"
  }
 },
 "nbformat": 4,
 "nbformat_minor": 0
}
